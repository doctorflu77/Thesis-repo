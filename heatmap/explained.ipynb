{
 "cells": [
  {
   "attachments": {},
   "cell_type": "markdown",
   "metadata": {},
   "source": [
    "##Code for generating heatmap"
   ]
  },
  {
   "attachments": {},
   "cell_type": "markdown",
   "metadata": {},
   "source": [
    "**Import relevant python libraries**"
   ]
  },
  {
   "cell_type": "code",
   "execution_count": null,
   "metadata": {},
   "outputs": [],
   "source": [
    "import sys\n",
    "import matplotlib\n",
    "import numpy as np\n",
    "from numpy import random \n",
    "matplotlib.use('Agg')\n",
    "\n",
    "import pandas as pd\n",
    "import matplotlib.pyplot as plt"
   ]
  },
  {
   "attachments": {},
   "cell_type": "markdown",
   "metadata": {},
   "source": [
    "**Import data**\n",
    "- Currently using randomly generated data in 100 - 300 Celsius\n",
    "- To be replaced with data from COMSOL software imported through pandas"
   ]
  },
  {
   "cell_type": "code",
   "execution_count": null,
   "metadata": {},
   "outputs": [],
   "source": [
    "temp = pd.read_csv('/Users/doctorflu/Desktop/Thesis/sampledata.csv')\n",
    "temp.dropna(inplace= True)\n",
    "\n",
    "x = temp.to_string()\n",
    "data = temp.iloc[:, 1:].values"
   ]
  },
  {
   "attachments": {},
   "cell_type": "markdown",
   "metadata": {},
   "source": [
    "**Create heatmap**\n",
    "- Initliase the figure and axis  \n",
    "- Map data to in built heatmap 'Spectral_r'  \n",
    "- Add headings and scale  \n"
   ]
  },
  {
   "cell_type": "code",
   "execution_count": null,
   "metadata": {},
   "outputs": [],
   "source": [
    "fig, ax = plt.subplots()\n",
    "\n",
    "heatmap = plt.imshow(data, cmap= 'Spectral_r') #cmap = Spectral_r\n",
    "plt.title('Heatmap')\n",
    "plt.xlabel('X - coord')\n",
    "plt.ylabel('Y - coord')\n",
    "cbar = plt.colorbar(heatmap)\n",
    "plt.gca().invert_yaxis()"
   ]
  },
  {
   "attachments": {},
   "cell_type": "markdown",
   "metadata": {},
   "source": [
    "**Save image**"
   ]
  },
  {
   "cell_type": "code",
   "execution_count": null,
   "metadata": {},
   "outputs": [],
   "source": [
    "plt.savefig('/Users/doctorflu/Desktop/Thesis/Thesis-repo/heatmap/test1.png')\n",
    "plt.show()\n",
    "sys.stdout.flush()"
   ]
  }
 ],
 "metadata": {
  "language_info": {
   "name": "python"
  },
  "orig_nbformat": 4
 },
 "nbformat": 4,
 "nbformat_minor": 2
}
